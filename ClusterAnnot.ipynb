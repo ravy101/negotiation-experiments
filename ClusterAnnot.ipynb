{
 "cells": [
  {
   "cell_type": "code",
   "execution_count": 14,
   "metadata": {},
   "outputs": [],
   "source": [
    "import os\n",
    "import csv\n",
    "import pandas as pd\n",
    "import numpy as np\n",
    "import umap\n",
    "import hdbscan\n",
    "import matplotlib.pyplot as plt\n",
    "import data\n",
    "from sklearn.feature_extraction.text import CountVectorizer\n",
    "from sentence_transformers import SentenceTransformer\n",
    "from  sklearn.metrics.pairwise import cosine_similarity\n",
    "from random import sample"
   ]
  },
  {
   "cell_type": "code",
   "execution_count": 2,
   "metadata": {},
   "outputs": [],
   "source": [
    "data_path = \"data/negotiate\"\n",
    "lines = []\n",
    "file_name = os.path.join(data_path, 'data.txt')\n",
    "with open(file_name, 'r') as f:\n",
    "    for line in f:\n",
    "        lines.append(line.strip())\n",
    "g =  [line[:12] for line in lines]\n",
    "o =  [line[-12:] for line in lines]\n",
    "selection = [line[12:-12].split('<eos>')[-2].split('<selection>')[1] for line in lines]\n",
    "rew = [line[12:-12].split('<eos>')[-1][8:] for line in lines]\n",
    "dialog = [line[12:-12].split('<eos>')[:-2] for line in lines]"
   ]
  },
  {
   "cell_type": "code",
   "execution_count": 3,
   "metadata": {},
   "outputs": [],
   "source": [
    "df = pd.DataFrame({'g':g, 'dialog':dialog, 'selection':selection, 'reward':rew, 'outcome':o})\n",
    "df.head()\n",
    "df.to_csv(\"nego_games.csv\", index=False)"
   ]
  },
  {
   "cell_type": "code",
   "execution_count": 4,
   "metadata": {},
   "outputs": [],
   "source": [
    "deals = [s.strip() != 'no agreement' for s in selection]"
   ]
  },
  {
   "cell_type": "code",
   "execution_count": 7,
   "metadata": {},
   "outputs": [],
   "source": [
    "df['books']  = [g.split()[0] for g in df['g']]\n",
    "df['hats']  = [g.split()[2] for g in df['g']]\n",
    "df['balls']  = [g.split()[4] for g in df['g']]\n",
    "\n"
   ]
  },
  {
   "cell_type": "code",
   "execution_count": 11,
   "metadata": {},
   "outputs": [],
   "source": [
    "sents = []\n",
    "\n",
    "for d in df['dialog']:\n",
    "    for sent in d:\n",
    "        s = sent.strip()\n",
    "        if s[:3] == 'YOU':\n",
    "            sents.append(s[4:].strip())"
   ]
  },
  {
   "cell_type": "code",
   "execution_count": 12,
   "metadata": {},
   "outputs": [],
   "source": [
    "with open('sent.txt', 'w') as f:\n",
    "    for s in sents:\n",
    "        f.write(s +'\\n')"
   ]
  },
  {
   "cell_type": "code",
   "execution_count": 13,
   "metadata": {},
   "outputs": [],
   "source": [
    "df = pd.DataFrame({\"sentences\":sents})"
   ]
  },
  {
   "cell_type": "code",
   "execution_count": 15,
   "metadata": {},
   "outputs": [],
   "source": [
    "partial = pd.read_csv(\"dataset100.csv\", index_col=0)\n"
   ]
  },
  {
   "cell_type": "code",
   "execution_count": 16,
   "metadata": {},
   "outputs": [
    {
     "data": {
      "text/html": [
       "<div>\n",
       "<style scoped>\n",
       "    .dataframe tbody tr th:only-of-type {\n",
       "        vertical-align: middle;\n",
       "    }\n",
       "\n",
       "    .dataframe tbody tr th {\n",
       "        vertical-align: top;\n",
       "    }\n",
       "\n",
       "    .dataframe thead th {\n",
       "        text-align: right;\n",
       "    }\n",
       "</style>\n",
       "<table border=\"1\" class=\"dataframe\">\n",
       "  <thead>\n",
       "    <tr style=\"text-align: right;\">\n",
       "      <th></th>\n",
       "      <th>sentences</th>\n",
       "      <th>greeting</th>\n",
       "      <th>need:books</th>\n",
       "      <th>need:hats</th>\n",
       "      <th>need:balls</th>\n",
       "      <th>offer:books</th>\n",
       "      <th>offer:hats</th>\n",
       "      <th>offer:balls</th>\n",
       "      <th>inquiry</th>\n",
       "      <th>agreement</th>\n",
       "    </tr>\n",
       "    <tr>\n",
       "      <th>index</th>\n",
       "      <th></th>\n",
       "      <th></th>\n",
       "      <th></th>\n",
       "      <th></th>\n",
       "      <th></th>\n",
       "      <th></th>\n",
       "      <th></th>\n",
       "      <th></th>\n",
       "      <th></th>\n",
       "      <th></th>\n",
       "    </tr>\n",
       "  </thead>\n",
       "  <tbody>\n",
       "    <tr>\n",
       "      <th>0</th>\n",
       "      <td>i would like 4 hats and you can have the rest .</td>\n",
       "      <td>False</td>\n",
       "      <td>NaN</td>\n",
       "      <td>4</td>\n",
       "      <td>NaN</td>\n",
       "      <td>all</td>\n",
       "      <td>0</td>\n",
       "      <td>all</td>\n",
       "      <td>NaN</td>\n",
       "      <td>NaN</td>\n",
       "    </tr>\n",
       "    <tr>\n",
       "      <th>1</th>\n",
       "      <td>deal</td>\n",
       "      <td>False</td>\n",
       "      <td>NaN</td>\n",
       "      <td>NaN</td>\n",
       "      <td>NaN</td>\n",
       "      <td>NaN</td>\n",
       "      <td>NaN</td>\n",
       "      <td>NaN</td>\n",
       "      <td>NaN</td>\n",
       "      <td>Full</td>\n",
       "    </tr>\n",
       "    <tr>\n",
       "      <th>2</th>\n",
       "      <td>you can have all the hats if i get the book an...</td>\n",
       "      <td>False</td>\n",
       "      <td>1</td>\n",
       "      <td>NaN</td>\n",
       "      <td>all</td>\n",
       "      <td>NaN</td>\n",
       "      <td>all</td>\n",
       "      <td>NaN</td>\n",
       "      <td>NaN</td>\n",
       "      <td>NaN</td>\n",
       "    </tr>\n",
       "    <tr>\n",
       "      <th>3</th>\n",
       "      <td>hi i would like the book and ball and you can ...</td>\n",
       "      <td>True</td>\n",
       "      <td>1</td>\n",
       "      <td>NaN</td>\n",
       "      <td>1</td>\n",
       "      <td>NaN</td>\n",
       "      <td>all</td>\n",
       "      <td>NaN</td>\n",
       "      <td>NaN</td>\n",
       "      <td>NaN</td>\n",
       "    </tr>\n",
       "    <tr>\n",
       "      <th>4</th>\n",
       "      <td>ill take the book</td>\n",
       "      <td>False</td>\n",
       "      <td>1</td>\n",
       "      <td>NaN</td>\n",
       "      <td>NaN</td>\n",
       "      <td>NaN</td>\n",
       "      <td>NaN</td>\n",
       "      <td>NaN</td>\n",
       "      <td>NaN</td>\n",
       "      <td>NaN</td>\n",
       "    </tr>\n",
       "    <tr>\n",
       "      <th>...</th>\n",
       "      <td>...</td>\n",
       "      <td>...</td>\n",
       "      <td>...</td>\n",
       "      <td>...</td>\n",
       "      <td>...</td>\n",
       "      <td>...</td>\n",
       "      <td>...</td>\n",
       "      <td>...</td>\n",
       "      <td>...</td>\n",
       "      <td>...</td>\n",
       "    </tr>\n",
       "    <tr>\n",
       "      <th>30529</th>\n",
       "      <td>take all the balls rest for me i guess</td>\n",
       "      <td>NaN</td>\n",
       "      <td>NaN</td>\n",
       "      <td>NaN</td>\n",
       "      <td>NaN</td>\n",
       "      <td>NaN</td>\n",
       "      <td>NaN</td>\n",
       "      <td>NaN</td>\n",
       "      <td>NaN</td>\n",
       "      <td>NaN</td>\n",
       "    </tr>\n",
       "    <tr>\n",
       "      <th>30530</th>\n",
       "      <td>mmk</td>\n",
       "      <td>NaN</td>\n",
       "      <td>NaN</td>\n",
       "      <td>NaN</td>\n",
       "      <td>NaN</td>\n",
       "      <td>NaN</td>\n",
       "      <td>NaN</td>\n",
       "      <td>NaN</td>\n",
       "      <td>NaN</td>\n",
       "      <td>NaN</td>\n",
       "    </tr>\n",
       "    <tr>\n",
       "      <th>30531</th>\n",
       "      <td>sold</td>\n",
       "      <td>NaN</td>\n",
       "      <td>NaN</td>\n",
       "      <td>NaN</td>\n",
       "      <td>NaN</td>\n",
       "      <td>NaN</td>\n",
       "      <td>NaN</td>\n",
       "      <td>NaN</td>\n",
       "      <td>NaN</td>\n",
       "      <td>NaN</td>\n",
       "    </tr>\n",
       "    <tr>\n",
       "      <th>30532</th>\n",
       "      <td>i want the book and both hats , you get the ba...</td>\n",
       "      <td>NaN</td>\n",
       "      <td>NaN</td>\n",
       "      <td>NaN</td>\n",
       "      <td>NaN</td>\n",
       "      <td>NaN</td>\n",
       "      <td>NaN</td>\n",
       "      <td>NaN</td>\n",
       "      <td>NaN</td>\n",
       "      <td>NaN</td>\n",
       "    </tr>\n",
       "    <tr>\n",
       "      <th>30533</th>\n",
       "      <td>it's a deal ?</td>\n",
       "      <td>NaN</td>\n",
       "      <td>NaN</td>\n",
       "      <td>NaN</td>\n",
       "      <td>NaN</td>\n",
       "      <td>NaN</td>\n",
       "      <td>NaN</td>\n",
       "      <td>NaN</td>\n",
       "      <td>NaN</td>\n",
       "      <td>NaN</td>\n",
       "    </tr>\n",
       "  </tbody>\n",
       "</table>\n",
       "<p>30534 rows × 10 columns</p>\n",
       "</div>"
      ],
      "text/plain": [
       "                                               sentences greeting need:books  \\\n",
       "index                                                                          \n",
       "0        i would like 4 hats and you can have the rest .    False        NaN   \n",
       "1                                                   deal    False        NaN   \n",
       "2      you can have all the hats if i get the book an...    False          1   \n",
       "3      hi i would like the book and ball and you can ...     True          1   \n",
       "4                                      ill take the book    False          1   \n",
       "...                                                  ...      ...        ...   \n",
       "30529             take all the balls rest for me i guess      NaN        NaN   \n",
       "30530                                                mmk      NaN        NaN   \n",
       "30531                                               sold      NaN        NaN   \n",
       "30532  i want the book and both hats , you get the ba...      NaN        NaN   \n",
       "30533                                      it's a deal ?      NaN        NaN   \n",
       "\n",
       "      need:hats need:balls offer:books offer:hats offer:balls inquiry  \\\n",
       "index                                                                   \n",
       "0             4        NaN         all          0         all     NaN   \n",
       "1           NaN        NaN         NaN        NaN         NaN     NaN   \n",
       "2           NaN        all         NaN        all         NaN     NaN   \n",
       "3           NaN          1         NaN        all         NaN     NaN   \n",
       "4           NaN        NaN         NaN        NaN         NaN     NaN   \n",
       "...         ...        ...         ...        ...         ...     ...   \n",
       "30529       NaN        NaN         NaN        NaN         NaN     NaN   \n",
       "30530       NaN        NaN         NaN        NaN         NaN     NaN   \n",
       "30531       NaN        NaN         NaN        NaN         NaN     NaN   \n",
       "30532       NaN        NaN         NaN        NaN         NaN     NaN   \n",
       "30533       NaN        NaN         NaN        NaN         NaN     NaN   \n",
       "\n",
       "      agreement  \n",
       "index            \n",
       "0           NaN  \n",
       "1          Full  \n",
       "2           NaN  \n",
       "3           NaN  \n",
       "4           NaN  \n",
       "...         ...  \n",
       "30529       NaN  \n",
       "30530       NaN  \n",
       "30531       NaN  \n",
       "30532       NaN  \n",
       "30533       NaN  \n",
       "\n",
       "[30534 rows x 10 columns]"
      ]
     },
     "execution_count": 16,
     "metadata": {},
     "output_type": "execute_result"
    }
   ],
   "source": [
    "partial"
   ]
  },
  {
   "cell_type": "code",
   "execution_count": null,
   "metadata": {},
   "outputs": [],
   "source": []
  },
  {
   "cell_type": "markdown",
   "metadata": {},
   "source": [
    "# Embeddings"
   ]
  },
  {
   "cell_type": "code",
   "execution_count": 17,
   "metadata": {},
   "outputs": [
    {
     "data": {
      "application/vnd.jupyter.widget-view+json": {
       "model_id": "43f34b26c1764bdb95b3f0eb915eb7d4",
       "version_major": 2,
       "version_minor": 0
      },
      "text/plain": [
       "Batches:   0%|          | 0/955 [00:00<?, ?it/s]"
      ]
     },
     "metadata": {},
     "output_type": "display_data"
    }
   ],
   "source": [
    "\n",
    "model = SentenceTransformer('distilbert-base-nli-mean-tokens')\n",
    "embeddings = model.encode(partial['sentences'], show_progress_bar=True)"
   ]
  },
  {
   "cell_type": "code",
   "execution_count": 18,
   "metadata": {},
   "outputs": [
    {
     "name": "stderr",
     "output_type": "stream",
     "text": [
      "C:\\Users\\ravy\\Anaconda3\\envs\\py30\\lib\\site-packages\\numba\\np\\ufunc\\parallel.py:366: NumbaWarning: \u001b[1mThe TBB threading layer requires TBB version 2021 update 1 or later i.e., TBB_INTERFACE_VERSION >= 12010. Found TBB_INTERFACE_VERSION = 11004. The TBB threading layer is disabled.\u001b[0m\n",
      "  warnings.warn(problem)\n"
     ]
    }
   ],
   "source": [
    "umap_embeddings = umap.UMAP(n_neighbors=15, \n",
    "                            n_components=5, \n",
    "                            metric='cosine').fit_transform(embeddings)"
   ]
  },
  {
   "cell_type": "code",
   "execution_count": 19,
   "metadata": {},
   "outputs": [],
   "source": [
    "cluster = hdbscan.HDBSCAN(min_cluster_size=100,\n",
    "                          metric='euclidean',                      \n",
    "                          cluster_selection_method='eom').fit(umap_embeddings)"
   ]
  },
  {
   "cell_type": "code",
   "execution_count": 20,
   "metadata": {},
   "outputs": [
    {
     "data": {
      "text/plain": [
       "<matplotlib.colorbar.Colorbar at 0x175c6a768b0>"
      ]
     },
     "execution_count": 20,
     "metadata": {},
     "output_type": "execute_result"
    },
    {
     "data": {
      "image/png": "[encoded data removed]",
      "text/plain": [
       "<Figure size 1152x576 with 2 Axes>"
      ]
     },
     "metadata": {
      "needs_background": "light"
     },
     "output_type": "display_data"
    }
   ],
   "source": [
    "# Prepare data\n",
    "umap_data = umap.UMAP(n_neighbors=15, n_components=2, min_dist=0.0, metric='cosine').fit_transform(embeddings)\n",
    "result = pd.DataFrame(umap_data, columns=['x', 'y'])\n",
    "result['labels'] = cluster.labels_\n",
    "\n",
    "# Visualize clusters\n",
    "fig, ax = plt.subplots(figsize=(16, 8))\n",
    "outliers = result.loc[result.labels == -1, :]\n",
    "clustered = result.loc[result.labels != -1, :]\n",
    "plt.scatter(outliers.x, outliers.y, color='#BDBDBD', s=0.05)\n",
    "plt.scatter(clustered.x, clustered.y, c=clustered.labels, s=0.05, cmap='hsv_r')\n",
    "for i in clustered.labels:\n",
    "    plt.annotate(i, (np.mean(clustered[clustered['labels'] == i].x),  np.mean(clustered[clustered['labels'] == i].y)))\n",
    "plt.colorbar()"
   ]
  },
  {
   "cell_type": "code",
   "execution_count": 22,
   "metadata": {},
   "outputs": [],
   "source": [
    "docs_df = pd.DataFrame(list(partial['sentences']), columns=[\"Doc\"])\n",
    "docs_df['Topic'] = cluster.labels_\n",
    "docs_df['Doc_ID'] = range(len(docs_df))\n",
    "docs_per_topic = docs_df.groupby(['Topic'], as_index = False).agg({'Doc': ' '.join})"
   ]
  },
  {
   "cell_type": "code",
   "execution_count": 23,
   "metadata": {},
   "outputs": [],
   "source": [
    "def c_tf_idf(documents, m, ngram_range=(1, 1)):\n",
    "    count = CountVectorizer(ngram_range=ngram_range, stop_words=\"english\").fit(documents)\n",
    "    t = count.transform(documents).toarray()\n",
    "    w = t.sum(axis=1)\n",
    "    tf = np.divide(t.T, w)\n",
    "    sum_t = t.sum(axis=0)\n",
    "    idf = np.log(np.divide(m, sum_t)).reshape(-1, 1)\n",
    "    tf_idf = np.multiply(tf, idf)\n",
    "\n",
    "    return tf_idf, count\n",
    "  \n",
    "tf_idf, count = c_tf_idf(docs_per_topic.Doc.values, m=len(partial['sentences']))"
   ]
  },
  {
   "cell_type": "code",
   "execution_count": 24,
   "metadata": {},
   "outputs": [],
   "source": [
    "def extract_top_n_words_per_topic(tf_idf, count, docs_per_topic, n=20):\n",
    "    words = count.get_feature_names_out ()\n",
    "    labels = list(docs_per_topic.Topic)\n",
    "    tf_idf_transposed = tf_idf.T\n",
    "    indices = tf_idf_transposed.argsort()[:, -n:]\n",
    "    top_n_words = {label: [(words[j], tf_idf_transposed[i][j]) for j in indices[i]][::-1] for i, label in enumerate(labels)}\n",
    "    return top_n_words\n",
    "\n",
    "def extract_topic_sizes(df):\n",
    "    topic_sizes = (df.groupby(['Topic'])\n",
    "                     .Doc\n",
    "                     .count()\n",
    "                     .reset_index()\n",
    "                     .rename({\"Topic\": \"Topic\", \"Doc\": \"Size\"}, axis='columns')\n",
    "                     .sort_values(\"Size\", ascending=False))\n",
    "    return topic_sizes\n",
    "\n",
    "top_n_words = extract_top_n_words_per_topic(tf_idf, count, docs_per_topic, n=20)\n",
    "topic_sizes = extract_topic_sizes(docs_df)"
   ]
  },
  {
   "cell_type": "code",
   "execution_count": 25,
   "metadata": {},
   "outputs": [],
   "source": [
    "n_merge = 20\n",
    "for i in range(n_merge):\n",
    "    # Calculate cosine similarity\n",
    "    similarities = cosine_similarity(tf_idf.T)\n",
    "    np.fill_diagonal(similarities, 0)\n",
    "\n",
    "    # Extract label to merge into and from where\n",
    "    topic_sizes = docs_df.groupby(['Topic']).count().sort_values(\"Doc\", ascending=False).reset_index()\n",
    "    topic_to_merge = topic_sizes.iloc[-1].Topic\n",
    "    topic_to_merge_into = np.argmax(similarities[topic_to_merge + 1]) - 1\n",
    "\n",
    "    # Adjust topics\n",
    "    docs_df.loc[docs_df.Topic == topic_to_merge, \"Topic\"] = topic_to_merge_into\n",
    "    old_topics = docs_df.sort_values(\"Topic\").Topic.unique()\n",
    "    map_topics = {old_topic: index - 1 for index, old_topic in enumerate(old_topics)}\n",
    "    docs_df.Topic = docs_df.Topic.map(map_topics)\n",
    "    docs_per_topic = docs_df.groupby(['Topic'], as_index = False).agg({'Doc': ' '.join})\n",
    "\n",
    "    # Calculate new topic words\n",
    "    m = len(partial['sentences'])\n",
    "    tf_idf, count = c_tf_idf(docs_per_topic.Doc.values, m)\n",
    "    top_n_words = extract_top_n_words_per_topic(tf_idf, count, docs_per_topic, n=20)\n",
    "\n",
    "topic_sizes = extract_topic_sizes(docs_df)"
   ]
  },
  {
   "cell_type": "code",
   "execution_count": 26,
   "metadata": {},
   "outputs": [
    {
     "data": {
      "text/plain": [
       "<matplotlib.colorbar.Colorbar at 0x175d7d162b0>"
      ]
     },
     "execution_count": 26,
     "metadata": {},
     "output_type": "execute_result"
    },
    {
     "data": {
      "image/png": "[encoded data removed]",
      "text/plain": [
       "<Figure size 1152x576 with 2 Axes>"
      ]
     },
     "metadata": {
      "needs_background": "light"
     },
     "output_type": "display_data"
    }
   ],
   "source": [
    "# Prepare data\n",
    "result = pd.DataFrame(umap_data, columns=['x', 'y'])\n",
    "result['labels'] = docs_df.Topic\n",
    "\n",
    "# Visualize clusters\n",
    "fig, ax = plt.subplots(figsize=(16, 8))\n",
    "outliers = result.loc[result.labels == -1, :]\n",
    "clustered = result.loc[result.labels != -1, :]\n",
    "plt.scatter(outliers.x, outliers.y, color='#BDBDBD', s=0.05)\n",
    "plt.scatter(clustered.x, clustered.y, c=clustered.labels, s=0.05, cmap='hsv_r')\n",
    "for i in clustered.labels:\n",
    "    plt.annotate(i, (np.mean(clustered[clustered['labels'] == i].x),  np.mean(clustered[clustered['labels'] == i].y)))\n",
    "plt.colorbar()"
   ]
  },
  {
   "cell_type": "code",
   "execution_count": 27,
   "metadata": {},
   "outputs": [
    {
     "data": {
      "text/html": [
       "<div>\n",
       "<style scoped>\n",
       "    .dataframe tbody tr th:only-of-type {\n",
       "        vertical-align: middle;\n",
       "    }\n",
       "\n",
       "    .dataframe tbody tr th {\n",
       "        vertical-align: top;\n",
       "    }\n",
       "\n",
       "    .dataframe thead th {\n",
       "        text-align: right;\n",
       "    }\n",
       "</style>\n",
       "<table border=\"1\" class=\"dataframe\">\n",
       "  <thead>\n",
       "    <tr style=\"text-align: right;\">\n",
       "      <th></th>\n",
       "      <th>Topic</th>\n",
       "      <th>Size</th>\n",
       "    </tr>\n",
       "  </thead>\n",
       "  <tbody>\n",
       "    <tr>\n",
       "      <th>10</th>\n",
       "      <td>9</td>\n",
       "      <td>5678</td>\n",
       "    </tr>\n",
       "    <tr>\n",
       "      <th>0</th>\n",
       "      <td>-1</td>\n",
       "      <td>5624</td>\n",
       "    </tr>\n",
       "    <tr>\n",
       "      <th>8</th>\n",
       "      <td>7</td>\n",
       "      <td>4997</td>\n",
       "    </tr>\n",
       "    <tr>\n",
       "      <th>4</th>\n",
       "      <td>3</td>\n",
       "      <td>1702</td>\n",
       "    </tr>\n",
       "    <tr>\n",
       "      <th>12</th>\n",
       "      <td>11</td>\n",
       "      <td>1586</td>\n",
       "    </tr>\n",
       "    <tr>\n",
       "      <th>1</th>\n",
       "      <td>0</td>\n",
       "      <td>1491</td>\n",
       "    </tr>\n",
       "    <tr>\n",
       "      <th>11</th>\n",
       "      <td>10</td>\n",
       "      <td>1226</td>\n",
       "    </tr>\n",
       "    <tr>\n",
       "      <th>14</th>\n",
       "      <td>13</td>\n",
       "      <td>1070</td>\n",
       "    </tr>\n",
       "    <tr>\n",
       "      <th>9</th>\n",
       "      <td>8</td>\n",
       "      <td>1048</td>\n",
       "    </tr>\n",
       "    <tr>\n",
       "      <th>3</th>\n",
       "      <td>2</td>\n",
       "      <td>872</td>\n",
       "    </tr>\n",
       "  </tbody>\n",
       "</table>\n",
       "</div>"
      ],
      "text/plain": [
       "    Topic  Size\n",
       "10      9  5678\n",
       "0      -1  5624\n",
       "8       7  4997\n",
       "4       3  1702\n",
       "12     11  1586\n",
       "1       0  1491\n",
       "11     10  1226\n",
       "14     13  1070\n",
       "9       8  1048\n",
       "3       2   872"
      ]
     },
     "execution_count": 27,
     "metadata": {},
     "output_type": "execute_result"
    }
   ],
   "source": [
    "topic_sizes.head(10)"
   ]
  },
  {
   "cell_type": "code",
   "execution_count": 28,
   "metadata": {},
   "outputs": [],
   "source": [
    "sent_df = pd.DataFrame({\"text\":partial['sentences'], \"cluster\":cluster.labels_})"
   ]
  },
  {
   "cell_type": "code",
   "execution_count": 29,
   "metadata": {},
   "outputs": [],
   "source": [
    "def get_examples(df, clusters,  n=10):\n",
    "    examples = dict()\n",
    "    for c in clusters:\n",
    "        cluster_examples = list()\n",
    "        cluster_examples.extend(sample(list(df[df['cluster'] == c].text),n))\n",
    "        examples[c] = cluster_examples\n",
    "    return examples"
   ]
  },
  {
   "cell_type": "code",
   "execution_count": 30,
   "metadata": {},
   "outputs": [
    {
     "name": "stdout",
     "output_type": "stream",
     "text": [
      "Top 20 Largest Clusters: Random Example Messages\n",
      "##############################\n",
      "\n",
      "Sample messages for cluster -1:\n",
      "\n",
      "i can take both books , smiles\n",
      "i have to have book . you can have the rest .\n",
      "i want both books for sure , and ideally all the balls . what do you want ?\n",
      "okay great ! thank you !\n",
      "we seem to have reached an impasse then . i need that book .\n",
      "if i can have the hats and the book you can have the balls\n",
      "can i just take all books ?\n",
      "fine\n",
      "fine\n",
      "all books to me , you get rest\n",
      "\n",
      "\n",
      "##############################\n",
      "\n",
      "Sample messages for cluster 7:\n",
      "\n",
      "you can have the hat if i can have the ball and 3 books\n",
      "i'd like the hat and the balls ; you can keep all 3 books ?\n",
      "if you want the ball , then i want 3 hats and the book .\n",
      "that won't work for me . i will be well under in points . i tried to concede already by taking just 1 ball and 1 book ; that's the best i am willing to go in this situtuation . unless you want the book and the hats and give me all 3 balls .\n",
      "can i have the book and 3 balls .\n",
      "ok how about you take the ball and i will get 2 hats and 3 books ?\n",
      "i'll give you the 3 books .\n",
      "hello , i will take a book and 1 ball . you get 3 i get 2 .\n",
      "gimme the hat and 3 books\n",
      "3 hats for 1 book and 2 balls\n",
      "\n",
      "\n",
      "##############################\n",
      "\n",
      "Sample messages for cluster 3:\n",
      "\n",
      "ok deal\n",
      "ok deal\n",
      "ok deal\n",
      "ok deal\n",
      "ok deal\n",
      "ok deal\n",
      "ok deal\n",
      "ok deal\n",
      "ok deal\n",
      "ok deal\n",
      "\n",
      "\n",
      "##############################\n",
      "\n",
      "Sample messages for cluster 11:\n",
      "\n",
      "agreed\n",
      "hi\n",
      "hi\n",
      "agreed\n",
      "agreed\n",
      "agreed\n",
      "agreed\n",
      "agreed\n",
      "agreed\n",
      "agreed\n",
      "\n",
      "\n",
      "##############################\n",
      "\n",
      "Sample messages for cluster 0:\n",
      "\n",
      "deal\n",
      "deal\n",
      "deal\n",
      "deal\n",
      "deal\n",
      "deal\n",
      "deal\n",
      "deal\n",
      "deal\n",
      "deal\n",
      "\n",
      "\n",
      "##############################\n",
      "\n",
      "Sample messages for cluster 10:\n",
      "\n",
      "no deal .\n",
      "no deal .\n",
      "no deal .\n",
      "no deal .\n",
      "no deal .\n",
      "no deal .\n",
      ". no deal\n",
      "no deal .\n",
      "hello\n",
      "no deal .\n",
      "\n",
      "\n",
      "##############################\n",
      "\n",
      "Sample messages for cluster 13:\n",
      "\n",
      "deal .\n",
      "deal .\n",
      "deal .\n",
      "deal .\n",
      "deal .\n",
      "deal .\n",
      "deal .\n",
      "deal .\n",
      "deal .\n",
      "deal .\n",
      "\n",
      "\n",
      "##############################\n",
      "\n",
      "Sample messages for cluster 8:\n",
      "\n",
      "ok deal\n",
      "ok deal\n",
      "ok deal\n",
      "ok deal\n",
      "ok deal\n",
      "ok deal\n",
      "ok deal\n",
      "ok deal\n",
      "ok deal\n",
      "ok deal\n",
      "\n",
      "\n",
      "##############################\n",
      "\n",
      "Sample messages for cluster 2:\n",
      "\n",
      "no\n",
      "then no .\n",
      "haha no\n",
      "no\n",
      "no\n",
      "no\n",
      "no d 3 eal\n",
      "no\n",
      "no\n",
      "no\n",
      "\n",
      "\n",
      "##############################\n",
      "\n",
      "Sample messages for cluster 1:\n",
      "\n",
      "no deal\n",
      "no deal\n",
      "no deal\n",
      "no deal\n",
      "no deal\n",
      "no deal\n",
      "no deal\n",
      "no deal\n",
      "no deal\n",
      "no deal\n",
      "\n",
      "\n",
      "##############################\n",
      "\n",
      "Sample messages for cluster 12:\n",
      "\n",
      "okay deal .\n",
      "thank you !\n",
      "thank you !\n",
      "thanks\n",
      "alright deal .\n",
      "okay deal .\n",
      "okay deal .\n",
      "thanks\n",
      "got it thanks\n",
      "thanks\n",
      "\n",
      "\n",
      "##############################\n",
      "\n",
      "Sample messages for cluster 17:\n",
      "\n",
      "i would like the hats and the ball .\n",
      "i'd like hat and balls .\n",
      "i kinda wanted the balls and the hat\n",
      "i really like the hats and balls\n",
      "i would like the hats and ball .\n",
      "i would like the hat and the balls .\n",
      "i'd love to have the ball and the hat\n",
      "i would like a hat and a ball\n",
      "i would like the hat and both balls\n",
      "i would like both balls and both hats .\n",
      "\n",
      "\n",
      "##############################\n",
      "\n",
      "Sample messages for cluster 14:\n",
      "\n",
      "i will give you all hats and a book , if i can have all of the basketballs .\n",
      "i need the basketball and book you can have all the hats\n",
      "i would like 1 book and 1 basketball\n",
      "i want the basketball , and 2 books .\n",
      "i'd like 1 basketball and 1 book , you can have the rest .\n",
      "i play hoops , i need the ball\n",
      "hello , i would really like a book and a basketball\n",
      "i will take the hat and 2 basketballs you take the book and 1 basketball\n",
      "how about i take 2 basketballs and you take the rest\n",
      "i take book , you take rest , along with this coupon for a free large fry at mcdonalds\n",
      "\n",
      "\n",
      "##############################\n",
      "\n",
      "Sample messages for cluster 6:\n",
      "\n",
      "what would you like\n",
      "what would you like\n",
      "what would you like\n",
      "what would you like\n",
      "what would you like\n",
      "what would you like\n",
      "what would you like\n",
      "what would you like\n",
      "what do you like\n",
      "what would you like\n",
      "\n",
      "\n",
      "##############################\n",
      "\n",
      "Sample messages for cluster 5:\n",
      "\n",
      "ok\n",
      "ok\n",
      "ok\n",
      "ok\n",
      "ok\n",
      "ok\n",
      "ok\n",
      "ok\n",
      "ok\n",
      "ok\n",
      "\n",
      "\n",
      "##############################\n",
      "\n",
      "Sample messages for cluster 4:\n",
      "\n",
      "okay\n",
      "okay\n",
      "okay\n",
      "okay\n",
      "okay\n",
      "okay\n",
      "okay\n",
      "okay\n",
      "okay\n",
      "okay\n",
      "\n",
      "\n",
      "##############################\n",
      "\n",
      "Sample messages for cluster 16:\n",
      "\n",
      "i guess we can't make a deal ,\n",
      "click on no deal when it comes up then\n",
      "no i can not do that . its already going to be a stretch if i give you one or the other .\n",
      "okay we can do that .\n",
      "done deal\n",
      "yeah thats not very fair . no deal\n",
      "great , deal\n",
      "do you have a counter - offer ?\n",
      "ok , i`ll take it . thank you\n",
      "agreed on the no deal\n",
      "\n",
      "\n",
      "##############################\n",
      "\n",
      "Sample messages for cluster 15:\n",
      "\n",
      "ok , i'll take hat and ball\n",
      "hi , i can take the ball and the hat\n",
      "i will give you all of the balls and the hats\n",
      "ball and hat or both hats for me\n",
      "how much is it worth that hat for you ? and the ball ?\n",
      "i'll tke the balls and hat if that's ok ?\n",
      "how about both balls and a hat\n",
      "fine , i get ball and hats ?\n",
      "how about the hats and the ball ?\n",
      "the hats and the balls ?\n",
      "\n",
      "\n"
     ]
    }
   ],
   "source": [
    "top_n = 20\n",
    "examples = get_examples(sent_df, topic_sizes['Topic'][1:top_n+1])\n",
    "print(f\"Top {top_n} Largest Clusters: Random Example Messages\")\n",
    "for k in examples.keys():\n",
    "    print(\"#\"*30 + \"\\n\")\n",
    "    print(f\"Sample messages for cluster {k}:\\n\")\n",
    "    [print(m) for m in examples[k]]\n",
    "    print(\"\\n\")"
   ]
  },
  {
   "cell_type": "code",
   "execution_count": 34,
   "metadata": {},
   "outputs": [],
   "source": [
    "partial['cluster'] = sent_df['cluster']"
   ]
  },
  {
   "cell_type": "code",
   "execution_count": 240,
   "metadata": {},
   "outputs": [],
   "source": [
    "partial = pd.read_csv(\"dataset_clustered.csv\", index_col = 0)"
   ]
  },
  {
   "cell_type": "code",
   "execution_count": 239,
   "metadata": {},
   "outputs": [],
   "source": [
    "partial2 = partial"
   ]
  },
  {
   "cell_type": "code",
   "execution_count": 241,
   "metadata": {},
   "outputs": [
    {
     "data": {
      "text/html": [
       "<div>\n",
       "<style scoped>\n",
       "    .dataframe tbody tr th:only-of-type {\n",
       "        vertical-align: middle;\n",
       "    }\n",
       "\n",
       "    .dataframe tbody tr th {\n",
       "        vertical-align: top;\n",
       "    }\n",
       "\n",
       "    .dataframe thead th {\n",
       "        text-align: right;\n",
       "    }\n",
       "</style>\n",
       "<table border=\"1\" class=\"dataframe\">\n",
       "  <thead>\n",
       "    <tr style=\"text-align: right;\">\n",
       "      <th></th>\n",
       "      <th>sentences</th>\n",
       "      <th>greeting</th>\n",
       "      <th>need:books</th>\n",
       "      <th>need:hats</th>\n",
       "      <th>need:balls</th>\n",
       "      <th>offer:books</th>\n",
       "      <th>offer:hats</th>\n",
       "      <th>offer:balls</th>\n",
       "      <th>inquiry</th>\n",
       "      <th>agreement</th>\n",
       "      <th>thanks</th>\n",
       "      <th>same</th>\n",
       "      <th>annotated</th>\n",
       "      <th>cluster</th>\n",
       "    </tr>\n",
       "    <tr>\n",
       "      <th>index</th>\n",
       "      <th></th>\n",
       "      <th></th>\n",
       "      <th></th>\n",
       "      <th></th>\n",
       "      <th></th>\n",
       "      <th></th>\n",
       "      <th></th>\n",
       "      <th></th>\n",
       "      <th></th>\n",
       "      <th></th>\n",
       "      <th></th>\n",
       "      <th></th>\n",
       "      <th></th>\n",
       "      <th></th>\n",
       "    </tr>\n",
       "  </thead>\n",
       "  <tbody>\n",
       "    <tr>\n",
       "      <th>12316</th>\n",
       "      <td>1</td>\n",
       "      <td>False</td>\n",
       "      <td>NaN</td>\n",
       "      <td>NaN</td>\n",
       "      <td>NaN</td>\n",
       "      <td>NaN</td>\n",
       "      <td>NaN</td>\n",
       "      <td>NaN</td>\n",
       "      <td>NaN</td>\n",
       "      <td>NaN</td>\n",
       "      <td>False</td>\n",
       "      <td>False</td>\n",
       "      <td>False</td>\n",
       "      <td>16</td>\n",
       "    </tr>\n",
       "    <tr>\n",
       "      <th>7922</th>\n",
       "      <td>2</td>\n",
       "      <td>False</td>\n",
       "      <td>NaN</td>\n",
       "      <td>NaN</td>\n",
       "      <td>NaN</td>\n",
       "      <td>NaN</td>\n",
       "      <td>NaN</td>\n",
       "      <td>NaN</td>\n",
       "      <td>NaN</td>\n",
       "      <td>NaN</td>\n",
       "      <td>False</td>\n",
       "      <td>False</td>\n",
       "      <td>False</td>\n",
       "      <td>19</td>\n",
       "    </tr>\n",
       "    <tr>\n",
       "      <th>13776</th>\n",
       "      <td>2</td>\n",
       "      <td>False</td>\n",
       "      <td>NaN</td>\n",
       "      <td>NaN</td>\n",
       "      <td>NaN</td>\n",
       "      <td>NaN</td>\n",
       "      <td>NaN</td>\n",
       "      <td>NaN</td>\n",
       "      <td>NaN</td>\n",
       "      <td>NaN</td>\n",
       "      <td>False</td>\n",
       "      <td>False</td>\n",
       "      <td>False</td>\n",
       "      <td>19</td>\n",
       "    </tr>\n",
       "    <tr>\n",
       "      <th>21820</th>\n",
       "      <td>2</td>\n",
       "      <td>False</td>\n",
       "      <td>NaN</td>\n",
       "      <td>NaN</td>\n",
       "      <td>NaN</td>\n",
       "      <td>NaN</td>\n",
       "      <td>NaN</td>\n",
       "      <td>NaN</td>\n",
       "      <td>NaN</td>\n",
       "      <td>NaN</td>\n",
       "      <td>False</td>\n",
       "      <td>False</td>\n",
       "      <td>False</td>\n",
       "      <td>19</td>\n",
       "    </tr>\n",
       "    <tr>\n",
       "      <th>1611</th>\n",
       "      <td>3</td>\n",
       "      <td>False</td>\n",
       "      <td>NaN</td>\n",
       "      <td>NaN</td>\n",
       "      <td>NaN</td>\n",
       "      <td>NaN</td>\n",
       "      <td>NaN</td>\n",
       "      <td>NaN</td>\n",
       "      <td>NaN</td>\n",
       "      <td>NaN</td>\n",
       "      <td>False</td>\n",
       "      <td>False</td>\n",
       "      <td>False</td>\n",
       "      <td>7</td>\n",
       "    </tr>\n",
       "  </tbody>\n",
       "</table>\n",
       "</div>"
      ],
      "text/plain": [
       "      sentences  greeting need:books need:hats need:balls offer:books  \\\n",
       "index                                                                   \n",
       "12316         1     False        NaN       NaN        NaN         NaN   \n",
       "7922          2     False        NaN       NaN        NaN         NaN   \n",
       "13776         2     False        NaN       NaN        NaN         NaN   \n",
       "21820         2     False        NaN       NaN        NaN         NaN   \n",
       "1611          3     False        NaN       NaN        NaN         NaN   \n",
       "\n",
       "      offer:hats offer:balls inquiry agreement  thanks   same  annotated  \\\n",
       "index                                                                      \n",
       "12316        NaN         NaN     NaN       NaN   False  False      False   \n",
       "7922         NaN         NaN     NaN       NaN   False  False      False   \n",
       "13776        NaN         NaN     NaN       NaN   False  False      False   \n",
       "21820        NaN         NaN     NaN       NaN   False  False      False   \n",
       "1611         NaN         NaN     NaN       NaN   False  False      False   \n",
       "\n",
       "       cluster  \n",
       "index           \n",
       "12316       16  \n",
       "7922        19  \n",
       "13776       19  \n",
       "21820       19  \n",
       "1611         7  "
      ]
     },
     "execution_count": 241,
     "metadata": {},
     "output_type": "execute_result"
    }
   ],
   "source": [
    "#partial.to_csv(\"dataset_clustered.csv\")\n",
    "partial.head()"
   ]
  },
  {
   "cell_type": "markdown",
   "metadata": {},
   "source": [
    "# Cluster 0"
   ]
  },
  {
   "cell_type": "code",
   "execution_count": 242,
   "metadata": {},
   "outputs": [
    {
     "data": {
      "text/plain": [
       "deal    1236\n",
       "bet        1\n",
       "Name: sentences, dtype: int64"
      ]
     },
     "execution_count": 242,
     "metadata": {},
     "output_type": "execute_result"
    }
   ],
   "source": [
    "(partial[partial['cluster'] == 0].sentences).value_counts()\n"
   ]
  },
  {
   "cell_type": "code",
   "execution_count": 93,
   "metadata": {},
   "outputs": [],
   "source": [
    "partial.loc[partial.sentences == 'deal', 'agreement'] = 'Full'\n",
    "\n",
    "partial.loc[partial.sentences == 'okay deal .', 'agreement'] = 'Full'\n",
    "partial.loc[partial.sentences == 'agreed', 'agreement'] = 'Full'\n"
   ]
  },
  {
   "cell_type": "markdown",
   "metadata": {},
   "source": [
    "# Cluster 1"
   ]
  },
  {
   "cell_type": "code",
   "execution_count": 94,
   "metadata": {},
   "outputs": [
    {
     "data": {
      "text/plain": [
       "no deal                   797\n",
       "no deal thn                 1\n",
       "ouch , no deal              1\n",
       "alas , no deal              1\n",
       "bet no deal                 1\n",
       "not possible , no deal      1\n",
       "there is no deal here       1\n",
       "no deal : /                 1\n",
       "Name: sentences, dtype: int64"
      ]
     },
     "execution_count": 94,
     "metadata": {},
     "output_type": "execute_result"
    }
   ],
   "source": [
    "(partial[partial['cluster'] == 1].sentences).value_counts()\n"
   ]
  },
  {
   "cell_type": "markdown",
   "metadata": {},
   "source": [
    "Entire cluster is a variant of \"NO DEAL\""
   ]
  },
  {
   "cell_type": "code",
   "execution_count": 95,
   "metadata": {},
   "outputs": [],
   "source": [
    "partial.loc[partial.cluster == 1, 'agreement'] = 'No Deal'\n",
    "partial.loc[partial.cluster == 1, 'annotated'] = True"
   ]
  },
  {
   "cell_type": "markdown",
   "metadata": {},
   "source": [
    "# Cluster 2"
   ]
  },
  {
   "cell_type": "code",
   "execution_count": 96,
   "metadata": {},
   "outputs": [
    {
     "data": {
      "text/plain": [
       "no               71\n",
       "no .              5\n",
       "nah               4\n",
       "how about no      3\n",
       "no ?              2\n",
       "yeah no           2\n",
       "no , for me .     1\n",
       "no ,              1\n",
       "haha no           1\n",
       "no . choose .     1\n",
       "nah son           1\n",
       "um , no           1\n",
       "lol . no .        1\n",
       "no it's not       1\n",
       "no thats it       1\n",
       "no nice           1\n",
       "no how            1\n",
       "nohat             1\n",
       "gov't             1\n",
       "lol no            1\n",
       "then no .         1\n",
       "no d 3 eal        1\n",
       "Name: sentences, dtype: int64"
      ]
     },
     "execution_count": 96,
     "metadata": {},
     "output_type": "execute_result"
    }
   ],
   "source": [
    "(partial[partial['cluster'] == 2].sentences).value_counts()"
   ]
  },
  {
   "cell_type": "code",
   "execution_count": 97,
   "metadata": {},
   "outputs": [],
   "source": [
    "partial.loc[partial.cluster == 2, 'agreement'] = 'No Deal'\n",
    "partial.loc[partial.cluster == 2, 'annotated'] = True"
   ]
  },
  {
   "cell_type": "markdown",
   "metadata": {},
   "source": [
    "# Cluster 3"
   ]
  },
  {
   "cell_type": "code",
   "execution_count": 98,
   "metadata": {},
   "outputs": [
    {
     "data": {
      "text/plain": [
       "ok deal    134\n",
       "Name: sentences, dtype: int64"
      ]
     },
     "execution_count": 98,
     "metadata": {},
     "output_type": "execute_result"
    }
   ],
   "source": [
    "(partial[partial['cluster'] == 3].sentences).value_counts()\n"
   ]
  },
  {
   "cell_type": "code",
   "execution_count": 99,
   "metadata": {},
   "outputs": [],
   "source": [
    "partial.loc[partial.cluster == 3, 'agreement'] = 'Full'\n",
    "partial.loc[partial.cluster == 3, 'annotated'] = True"
   ]
  },
  {
   "cell_type": "markdown",
   "metadata": {},
   "source": [
    "# Cluster 4"
   ]
  },
  {
   "cell_type": "code",
   "execution_count": 100,
   "metadata": {},
   "outputs": [
    {
     "data": {
      "text/plain": [
       "okay         195\n",
       "ok deal .     22\n",
       "Name: sentences, dtype: int64"
      ]
     },
     "execution_count": 100,
     "metadata": {},
     "output_type": "execute_result"
    }
   ],
   "source": [
    "(partial[partial['cluster'] == 4].sentences).value_counts()"
   ]
  },
  {
   "cell_type": "code",
   "execution_count": 101,
   "metadata": {},
   "outputs": [],
   "source": [
    "partial.loc[partial.cluster == 4, 'agreement'] = 'Full'\n",
    "partial.loc[partial.cluster == 4, 'annotated'] = True"
   ]
  },
  {
   "cell_type": "markdown",
   "metadata": {},
   "source": [
    "# Cluster 5"
   ]
  },
  {
   "cell_type": "code",
   "execution_count": 102,
   "metadata": {},
   "outputs": [
    {
     "data": {
      "text/plain": [
       "ok       603\n",
       "yup       32\n",
       "yup !      1\n",
       "Name: sentences, dtype: int64"
      ]
     },
     "execution_count": 102,
     "metadata": {},
     "output_type": "execute_result"
    }
   ],
   "source": [
    "(partial[partial['cluster'] == 5].sentences).value_counts()"
   ]
  },
  {
   "cell_type": "code",
   "execution_count": 103,
   "metadata": {},
   "outputs": [],
   "source": [
    "partial.loc[partial.cluster == 5, 'agreement'] = 'Full'\n",
    "partial.loc[partial.cluster == 5, 'annotated'] = True"
   ]
  },
  {
   "cell_type": "markdown",
   "metadata": {},
   "source": [
    "# Cluster 6"
   ]
  },
  {
   "cell_type": "code",
   "execution_count": 104,
   "metadata": {},
   "outputs": [
    {
     "data": {
      "text/plain": [
       "what would you like       119\n",
       "ok what would you like      2\n",
       "what do you like            1\n",
       "what would you like .       1\n",
       "ok what do you like         1\n",
       "Name: sentences, dtype: int64"
      ]
     },
     "execution_count": 104,
     "metadata": {},
     "output_type": "execute_result"
    }
   ],
   "source": [
    "(partial[partial['cluster'] == 6].sentences).value_counts()"
   ]
  },
  {
   "cell_type": "code",
   "execution_count": 105,
   "metadata": {},
   "outputs": [],
   "source": [
    "partial.loc[partial.cluster == 6, 'inquiry'] = True\n",
    "partial.loc[partial.cluster == 6, 'annotated'] = True"
   ]
  },
  {
   "cell_type": "markdown",
   "metadata": {},
   "source": [
    "# Cluster 7 - Not Simple"
   ]
  },
  {
   "cell_type": "code",
   "execution_count": 106,
   "metadata": {},
   "outputs": [
    {
     "data": {
      "text/plain": [
       "you can have 3 balls                                                          4\n",
       "how about you get three books                                                 3\n",
       "how about i take 3 books and you take the rest ?                              2\n",
       "if i can have one of each you can have the other three balls                  2\n",
       "3 books                                                                       2\n",
       "                                                                             ..\n",
       "could i have the hat and ball ? and you can take all three books              1\n",
       "hi there ! i'd really be happiest if i can have all 3 books and the ball .    1\n",
       "i would like three hats and the book .                                        1\n",
       "three balls                                                                   1\n",
       "so i get 3 hats and 2 balls ?                                                 1\n",
       "Name: sentences, Length: 1310, dtype: int64"
      ]
     },
     "execution_count": 106,
     "metadata": {},
     "output_type": "execute_result"
    }
   ],
   "source": [
    "(partial[partial['cluster'] == 7].sentences).value_counts()"
   ]
  },
  {
   "cell_type": "markdown",
   "metadata": {},
   "source": [
    "# Cluster 8"
   ]
  },
  {
   "cell_type": "code",
   "execution_count": 107,
   "metadata": {},
   "outputs": [
    {
     "data": {
      "text/plain": [
       "ok deal     100\n",
       "mmm deal      1\n",
       "ok dealz      1\n",
       "Name: sentences, dtype: int64"
      ]
     },
     "execution_count": 107,
     "metadata": {},
     "output_type": "execute_result"
    }
   ],
   "source": [
    "(partial[partial['cluster'] == 8].sentences).value_counts()"
   ]
  },
  {
   "cell_type": "code",
   "execution_count": 108,
   "metadata": {},
   "outputs": [],
   "source": [
    "partial.loc[partial.cluster == 8, 'agreement'] = 'Full'\n",
    "partial.loc[partial.cluster == 8, 'annotated'] = True"
   ]
  },
  {
   "cell_type": "markdown",
   "metadata": {},
   "source": [
    "# Cluster 9"
   ]
  },
  {
   "cell_type": "code",
   "execution_count": 109,
   "metadata": {},
   "outputs": [
    {
     "data": {
      "text/plain": [
       "yes                       258\n",
       "thank you .                18\n",
       "yes !                       2\n",
       "indeed                      2\n",
       "yes please . thank you      1\n",
       "how about yes               1\n",
       "yes ?                       1\n",
       "yes yes                     1\n",
       "yess                        1\n",
       "Name: sentences, dtype: int64"
      ]
     },
     "execution_count": 109,
     "metadata": {},
     "output_type": "execute_result"
    }
   ],
   "source": [
    "(partial[partial['cluster'] == 9].sentences).value_counts()"
   ]
  },
  {
   "cell_type": "code",
   "execution_count": 110,
   "metadata": {},
   "outputs": [],
   "source": [
    "partial.loc[partial.cluster == 9, 'agreement'] = 'Full'\n",
    "partial.loc[partial.cluster == 9, 'annotated'] = True"
   ]
  },
  {
   "cell_type": "markdown",
   "metadata": {},
   "source": [
    "# Cluster 10 - Mixed"
   ]
  },
  {
   "cell_type": "code",
   "execution_count": 111,
   "metadata": {},
   "outputs": [
    {
     "data": {
      "text/plain": [
       "no deal .          216\n",
       "hello               26\n",
       ". no deal            3\n",
       "hello .              2\n",
       "no deal it is .      2\n",
       "hello !              2\n",
       "no deal is it .      1\n",
       "hello /              1\n",
       "hello ,              1\n",
       "Name: sentences, dtype: int64"
      ]
     },
     "execution_count": 111,
     "metadata": {},
     "output_type": "execute_result"
    }
   ],
   "source": [
    "(partial[partial['cluster'] == 10].sentences).value_counts()"
   ]
  },
  {
   "cell_type": "code",
   "execution_count": 112,
   "metadata": {},
   "outputs": [],
   "source": [
    "partial.loc[(partial.cluster == 10)  & (partial.sentences.str.contains('no', regex=False)), 'agreement'] = 'No Deal' \n",
    "partial.loc[(partial.cluster == 10)  & (partial.sentences.str.contains('no', regex=False)), 'annotated'] = True "
   ]
  },
  {
   "cell_type": "code",
   "execution_count": 113,
   "metadata": {},
   "outputs": [],
   "source": [
    "# Cluster 11"
   ]
  },
  {
   "cell_type": "code",
   "execution_count": 114,
   "metadata": {},
   "outputs": [
    {
     "data": {
      "text/plain": [
       "agreed                  62\n",
       "hi                      28\n",
       "agree                    9\n",
       "hi !                     2\n",
       "agreed upon              1\n",
       "hi ,                     1\n",
       "hi there                 1\n",
       "hi .                     1\n",
       "ok , if you insist .     1\n",
       "Name: sentences, dtype: int64"
      ]
     },
     "execution_count": 114,
     "metadata": {},
     "output_type": "execute_result"
    }
   ],
   "source": [
    "(partial[partial['cluster'] == 11].sentences).value_counts()"
   ]
  },
  {
   "cell_type": "code",
   "execution_count": 115,
   "metadata": {},
   "outputs": [],
   "source": [
    "partial.loc[partial.sentences == 'agreed', 'agreement'] = 'Full'\n",
    "partial.loc[partial.sentences == 'agreed', 'annotated'] = True\n",
    "partial.loc[partial.sentences == 'agree', 'agreement'] = 'Full'\n",
    "partial.loc[partial.sentences == 'agree', 'annotated'] = True\n",
    "partial.loc[partial.sentences == 'agreed upon', 'agreement'] = 'Full'\n",
    "partial.loc[partial.sentences == 'agreed upon', 'annotated'] = True"
   ]
  },
  {
   "cell_type": "code",
   "execution_count": 117,
   "metadata": {},
   "outputs": [],
   "source": [
    "# Cluster 12"
   ]
  },
  {
   "cell_type": "code",
   "execution_count": 118,
   "metadata": {},
   "outputs": [
    {
     "data": {
      "text/plain": [
       "thanks                69\n",
       "okay deal .           65\n",
       "thank you !           33\n",
       "okay , deal           10\n",
       "ok thanks              9\n",
       "okay , deal .          8\n",
       "thanks .               6\n",
       "ok , thanks            4\n",
       "alright , deal .       3\n",
       "okay thanks .          1\n",
       "yep , thanks           1\n",
       "fine , thanks          1\n",
       "okay deal : )          1\n",
       "ok i appreciate it     1\n",
       "got it thanks          1\n",
       "same , thanks          1\n",
       "okay thanks            1\n",
       "okay , thanks .        1\n",
       "ok . thanks            1\n",
       "yes , thanks           1\n",
       "alright deal .         1\n",
       "deal . take care .     1\n",
       "done thankls           1\n",
       "thanks : )             1\n",
       "Name: sentences, dtype: int64"
      ]
     },
     "execution_count": 118,
     "metadata": {},
     "output_type": "execute_result"
    }
   ],
   "source": [
    "(partial[partial['cluster'] == 12].sentences).value_counts()"
   ]
  },
  {
   "cell_type": "code",
   "execution_count": 119,
   "metadata": {},
   "outputs": [],
   "source": [
    "partial.loc[partial.cluster == 12, 'agreement'] = 'Full'\n",
    "partial.loc[partial.cluster == 12, 'annotated'] = True"
   ]
  },
  {
   "cell_type": "code",
   "execution_count": 120,
   "metadata": {},
   "outputs": [],
   "source": [
    "# Cluster 13"
   ]
  },
  {
   "cell_type": "code",
   "execution_count": 121,
   "metadata": {},
   "outputs": [
    {
     "data": {
      "text/plain": [
       "deal .                                   428\n",
       "deal then                                  4\n",
       "k deal                                     3\n",
       "sold                                       2\n",
       "fari deal .                                1\n",
       "deal ,                                     1\n",
       "deall                                      1\n",
       "ni deal                                    1\n",
       "lno deal                                   1\n",
       "how about a million dollars with that      1\n",
       "negotiation time                           1\n",
       "kk ! deal                                  1\n",
       "sold and done .                            1\n",
       "8 points                                   1\n",
       "Name: sentences, dtype: int64"
      ]
     },
     "execution_count": 121,
     "metadata": {},
     "output_type": "execute_result"
    }
   ],
   "source": [
    "(partial[partial['cluster'] == 13].sentences).value_counts()"
   ]
  },
  {
   "cell_type": "code",
   "execution_count": null,
   "metadata": {},
   "outputs": [],
   "source": []
  },
  {
   "cell_type": "code",
   "execution_count": 122,
   "metadata": {},
   "outputs": [
    {
     "data": {
      "text/plain": [
       "i would like the hat and all the books you can have the basketball               2\n",
       "i will give you all hats and a book , if i can have all of the basketballs .     2\n",
       "what about basketballs ?                                                         2\n",
       "i'd like the hats and the basketball ; are the books of high value to you ?      2\n",
       "i would like the hat and basketball you can have all the books                   2\n",
       "                                                                                ..\n",
       "i will take the basketballs and the book you can have the hat                    1\n",
       "no deal i will take the book and 1 hat you can have 2 hats and the basketball    1\n",
       "i'd like the basketball and book if you want the hats                            1\n",
       "i would like the basketballs and hats . you can have the books                   1\n",
       "i'd like 1 basketball and 1 book , you can have the rest .                       1\n",
       "Name: sentences, Length: 490, dtype: int64"
      ]
     },
     "execution_count": 122,
     "metadata": {},
     "output_type": "execute_result"
    }
   ],
   "source": [
    "(partial[partial['cluster'] == 14].sentences).value_counts()"
   ]
  },
  {
   "cell_type": "code",
   "execution_count": 123,
   "metadata": {},
   "outputs": [
    {
     "data": {
      "text/plain": [
       "balls and hats for me                          7\n",
       "give me hat and balls                          7\n",
       "hats and balls for me                          5\n",
       "give me hat and ball                           4\n",
       "give me the hat and balls                      3\n",
       "                                              ..\n",
       "huh ? you can have both hats and both balls    1\n",
       "i'll give you the ball and hat . . .           1\n",
       "ball and all the hats                          1\n",
       "hat and balls to me                            1\n",
       "the hats and the balls ?                       1\n",
       "Name: sentences, Length: 292, dtype: int64"
      ]
     },
     "execution_count": 123,
     "metadata": {},
     "output_type": "execute_result"
    }
   ],
   "source": [
    "(partial[partial['cluster'] == 15].sentences).value_counts()"
   ]
  },
  {
   "cell_type": "code",
   "execution_count": 124,
   "metadata": {},
   "outputs": [
    {
     "data": {
      "text/plain": [
       "yes .                                  44\n",
       "yep                                    43\n",
       "ok .                                   27\n",
       "okay .                                 25\n",
       "then no deal                           22\n",
       "                                       ..\n",
       "shoot . how we gonna do this then ?     1\n",
       "they're worthless to me too .           1\n",
       "no i cannot agree to that               1\n",
       "ok . i will take that                   1\n",
       "it's a deal ?                           1\n",
       "Name: sentences, Length: 3444, dtype: int64"
      ]
     },
     "execution_count": 124,
     "metadata": {},
     "output_type": "execute_result"
    }
   ],
   "source": [
    "(partial[partial['cluster'] == 16].sentences).value_counts()"
   ]
  },
  {
   "cell_type": "code",
   "execution_count": 125,
   "metadata": {},
   "outputs": [
    {
     "data": {
      "text/plain": [
       "i would like the hat and the balls .                              13\n",
       "i would like the hat and the ball .                               12\n",
       "i would like the hats and the balls .                             11\n",
       "i would like the hats and the ball .                              10\n",
       "i would like the balls and the hat .                               7\n",
       "                                                                  ..\n",
       "i'd like the hat , myself . i'd settle for the hat and balls .     1\n",
       "i'm okay with the hats but i think i'd like at least one ball      1\n",
       "i'd like the balls and hat .                                       1\n",
       "i'd like the ball and hat .                                        1\n",
       "i'd rather like the hat also . i can let you have the ball .       1\n",
       "Name: sentences, Length: 115, dtype: int64"
      ]
     },
     "execution_count": 125,
     "metadata": {},
     "output_type": "execute_result"
    }
   ],
   "source": [
    "(partial[partial['cluster'] == 17].sentences).value_counts()"
   ]
  },
  {
   "cell_type": "code",
   "execution_count": 126,
   "metadata": {},
   "outputs": [
    {
     "data": {
      "text/plain": [
       "books and hats                                 6\n",
       "give me hat and books                          5\n",
       "give me the hat and books                      4\n",
       "book and hats                                  3\n",
       "can i have the hats and a book please ?        3\n",
       "                                              ..\n",
       "take the hats and a book                       1\n",
       "you get both books and a hat                   1\n",
       "both hats and a book and we have a deal        1\n",
       "okay so i take the book and both hats          1\n",
       "would you accept a book for the other hat ?    1\n",
       "Name: sentences, Length: 277, dtype: int64"
      ]
     },
     "execution_count": 126,
     "metadata": {},
     "output_type": "execute_result"
    }
   ],
   "source": [
    "(partial[partial['cluster'] == 18].sentences).value_counts()"
   ]
  },
  {
   "cell_type": "code",
   "execution_count": 127,
   "metadata": {},
   "outputs": [
    {
     "data": {
      "text/plain": [
       "i need the ball                                                                     18\n",
       "i need the hat                                                                      16\n",
       "i need the ball and 2 hats                                                          12\n",
       "i just want the ball                                                                11\n",
       "one ball                                                                            10\n",
       "                                                                                    ..\n",
       "i really only need the hat and one ball sir .                                        1\n",
       "the ball is worth more for me . but you can have the ball and i`ll take the rest     1\n",
       "i want the ball and one hat                                                          1\n",
       "i need the hats and you can have the rest                                            1\n",
       "take all the balls rest for me i guess                                               1\n",
       "Name: sentences, Length: 5008, dtype: int64"
      ]
     },
     "execution_count": 127,
     "metadata": {},
     "output_type": "execute_result"
    }
   ],
   "source": [
    "(partial[partial['cluster'] == 19].sentences).value_counts()"
   ]
  },
  {
   "cell_type": "code",
   "execution_count": 224,
   "metadata": {},
   "outputs": [
    {
     "data": {
      "text/plain": [
       "i need the book and 2 hats               9\n",
       "i want the hat and two books             7\n",
       "i would like 2 books and 1 hat           6\n",
       "i need the hat and 2 books               6\n",
       "i need the book and two hats             5\n",
       "                                        ..\n",
       "ok , so two hats and two books for me    1\n",
       "two books and two hats                   1\n",
       "two hats and and one book for you        1\n",
       "yeah how about two books only            1\n",
       "i'd like the book and two hats           1\n",
       "Name: sentences, Length: 818, dtype: int64"
      ]
     },
     "execution_count": 224,
     "metadata": {},
     "output_type": "execute_result"
    }
   ],
   "source": [
    "(partial[partial['cluster'] == 20].sentences).value_counts()"
   ]
  },
  {
   "cell_type": "markdown",
   "metadata": {},
   "source": [
    "# Most common un-annotated messages"
   ]
  },
  {
   "cell_type": "code",
   "execution_count": 243,
   "metadata": {},
   "outputs": [
    {
     "data": {
      "text/plain": [
       "i need the ball                         18\n",
       "i need the book                         16\n",
       "i need the hat                          16\n",
       "i would like the books and the hat .    14\n",
       "correct                                 14\n",
       "i would like the hat and the balls .    13\n",
       "i want one of each .                    13\n",
       "one hat                                 12\n",
       "i would like the hat and the ball .     12\n",
       "i just want the book                    12\n",
       "Name: sentences, dtype: int64"
      ]
     },
     "execution_count": 243,
     "metadata": {},
     "output_type": "execute_result"
    }
   ],
   "source": [
    "(partial[partial.annotated == False].sentences).value_counts()[:10]"
   ]
  },
  {
   "cell_type": "code",
   "execution_count": 218,
   "metadata": {},
   "outputs": [],
   "source": [
    "agree_phrases = ['deal .', 'ok .', 'ok , deal', 'ok , deal .', 'okay great !', 'cool', 'i can do that', 'agreed .', 'i agree .', 'great ! thank you !', 'great !', 'okay .', 'sounds good', 'sounds good .', 'sure', 'great', 'okay deal', 'okay thank you !', 'okay deal', 'fine', 'yes .', 'yep', 'deal !', 'okay great ! thank you !']\n",
    "for phrase in agree_phrases:\n",
    "    partial.loc[partial.sentences == phrase, 'agreement'] = 'Full'\n",
    "    partial.loc[partial.sentences == phrase, 'annotated'] = True"
   ]
  },
  {
   "cell_type": "code",
   "execution_count": 226,
   "metadata": {},
   "outputs": [],
   "source": [
    "disagree_phrases = ['nope', 'no deal then', 'ok no deal', 'okay no deal .', 'nd', 'no deal then .', 'agreed . no deal .', 'ok , no deal', 'no way', \n",
    "                    'never', 'sorry no deal', 'then no deal', 'no can do', \"i can't do that\"]\n",
    "for phrase in disagree_phrases:\n",
    "    partial.loc[partial.sentences == phrase, 'agreement'] = 'No Deal'\n",
    "    partial.loc[partial.sentences == phrase, 'annotated'] = True\n"
   ]
  },
  {
   "cell_type": "code",
   "execution_count": 203,
   "metadata": {},
   "outputs": [],
   "source": [
    "greeting_phrases = ['hi', 'hello']\n",
    "for phrase in greeting_phrases:\n",
    "    partial.loc[partial.sentences == phrase, 'greeting'] = True\n",
    "    partial.loc[partial.sentences == phrase, 'annotated'] = True"
   ]
  },
  {
   "cell_type": "code",
   "execution_count": 204,
   "metadata": {},
   "outputs": [],
   "source": [
    "question_phrases = ['what would you like ?', 'what do you want ?' ]\n",
    "for phrase in question_phrases:\n",
    "    partial.loc[partial.sentences == phrase, 'inquiry'] = True\n",
    "    partial.loc[partial.sentences == phrase, 'annotated'] = True"
   ]
  },
  {
   "cell_type": "code",
   "execution_count": 205,
   "metadata": {},
   "outputs": [],
   "source": [
    "thank_phrases = ['thanks', 'thanks !', 'thank you', 'thx']\n",
    "for phrase in thank_phrases:\n",
    "    partial.loc[partial.sentences == phrase, 'agreement'] = 'Full'\n",
    "    partial.loc[partial.sentences == phrase, 'thanks'] = True\n",
    "    partial.loc[partial.sentences == phrase, 'annotated'] = True"
   ]
  },
  {
   "cell_type": "code",
   "execution_count": 223,
   "metadata": {},
   "outputs": [],
   "source": [
    "similar_phrases = ['same', 'me too', 'same here']\n",
    "for phrase in similar_phrases:\n",
    "    partial.loc[partial.sentences == phrase, 'same'] = True\n",
    "    partial.loc[partial.sentences == phrase, 'annotated'] = True"
   ]
  },
  {
   "cell_type": "code",
   "execution_count": 132,
   "metadata": {},
   "outputs": [],
   "source": [
    "partial.loc[partial.sentences.str.contains('hello'), 'greeting'] = True"
   ]
  },
  {
   "cell_type": "code",
   "execution_count": 136,
   "metadata": {},
   "outputs": [],
   "source": [
    "partial.loc[partial.sentences.str.contains('hi '), 'greeting'] = True"
   ]
  },
  {
   "cell_type": "code",
   "execution_count": 237,
   "metadata": {},
   "outputs": [],
   "source": [
    "partial.to_csv(\"dataset_clustered.csv\")"
   ]
  },
  {
   "cell_type": "code",
   "execution_count": 244,
   "metadata": {},
   "outputs": [
    {
     "data": {
      "text/plain": [
       "0.20059605685465381"
      ]
     },
     "execution_count": 244,
     "metadata": {},
     "output_type": "execute_result"
    }
   ],
   "source": [
    "partial.annotated.mean()"
   ]
  },
  {
   "cell_type": "code",
   "execution_count": null,
   "metadata": {},
   "outputs": [],
   "source": []
  }
 ],
 "metadata": {
  "kernelspec": {
   "display_name": "Python 3 (ipykernel)",
   "language": "python",
   "name": "python3"
  },
  "language_info": {
   "codemirror_mode": {
    "name": "ipython",
    "version": 3
   },
   "file_extension": ".py",
   "mimetype": "text/x-python",
   "name": "python",
   "nbconvert_exporter": "python",
   "pygments_lexer": "ipython3",
   "version": "3.9.7"
  }
 },
 "nbformat": 4,
 "nbformat_minor": 4
}
