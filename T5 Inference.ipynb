{
 "cells": [
  {
   "cell_type": "code",
   "execution_count": 2,
   "id": "05e7ae5b",
   "metadata": {},
   "outputs": [
    {
     "name": "stderr",
     "output_type": "stream",
     "text": [
      "[nltk_data] Downloading package punkt to /home/ravy/nltk_data...\n",
      "[nltk_data]   Package punkt is already up-to-date!\n"
     ]
    }
   ],
   "source": [
    "import pandas as pd\n",
    "import translation_model\n"
   ]
  },
  {
   "cell_type": "code",
   "execution_count": 4,
   "id": "2f1bd490",
   "metadata": {},
   "outputs": [],
   "source": [
    "df = pd.read_csv('data/template_full.csv')"
   ]
  },
  {
   "cell_type": "code",
   "execution_count": 5,
   "id": "1b95f5d5",
   "metadata": {},
   "outputs": [],
   "source": [
    "translator = translation_model.TranslationModel()"
   ]
  },
  {
   "cell_type": "code",
   "execution_count": null,
   "id": "f694bb9a",
   "metadata": {},
   "outputs": [],
   "source": [
    "template_lang = []\n",
    "for m in df['sentences']:\n",
    "    template_lang.append(translator.translate(m))"
   ]
  },
  {
   "cell_type": "code",
   "execution_count": null,
   "id": "f08fd63d",
   "metadata": {},
   "outputs": [],
   "source": [
    "df_output = pd.DataFrame({'sentences': df['sentences'], 'Actual':df['template'], 'Predicted': template_lang})\n",
    "df_output.to_csv(\"message_generation_sample.csv\")"
   ]
  },
  {
   "cell_type": "code",
   "execution_count": null,
   "id": "2bdc0da1",
   "metadata": {},
   "outputs": [],
   "source": []
  }
 ],
 "metadata": {
  "kernelspec": {
   "display_name": "Python 3.7.9 64-bit ('py379': conda)",
   "language": "python",
   "name": "python379jvsc74a57bd08d74baf78b48d53b51cb4f6c1d722dcf0abe0e2d9293d1c4b5902608f32e4271"
  },
  "language_info": {
   "codemirror_mode": {
    "name": "ipython",
    "version": 3
   },
   "file_extension": ".py",
   "mimetype": "text/x-python",
   "name": "python",
   "nbconvert_exporter": "python",
   "pygments_lexer": "ipython3",
   "version": "3.7.9"
  },
  "varInspector": {
   "cols": {
    "lenName": 16,
    "lenType": 16,
    "lenVar": 40
   },
   "kernels_config": {
    "python": {
     "delete_cmd_postfix": "",
     "delete_cmd_prefix": "del ",
     "library": "var_list.py",
     "varRefreshCmd": "print(var_dic_list())"
    },
    "r": {
     "delete_cmd_postfix": ") ",
     "delete_cmd_prefix": "rm(",
     "library": "var_list.r",
     "varRefreshCmd": "cat(var_dic_list()) "
    }
   },
   "types_to_exclude": [
    "module",
    "function",
    "builtin_function_or_method",
    "instance",
    "_Feature"
   ],
   "window_display": false
  }
 },
 "nbformat": 4,
 "nbformat_minor": 5
}
